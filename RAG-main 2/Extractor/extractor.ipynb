{
 "cells": [
  {
   "cell_type": "code",
   "execution_count": 1,
   "metadata": {},
   "outputs": [
    {
     "name": "stdout",
     "output_type": "stream",
     "text": [
      "Requirement already satisfied: PyMuPDF in c:\\users\\manib\\anaconda3\\lib\\site-packages (1.24.3)\n",
      "Requirement already satisfied: PyMuPDFb==1.24.3 in c:\\users\\manib\\anaconda3\\lib\\site-packages (from PyMuPDF) (1.24.3)\n"
     ]
    }
   ],
   "source": [
    "!pip install PyMuPDF\n"
   ]
  },
  {
   "cell_type": "code",
   "execution_count": 42,
   "metadata": {},
   "outputs": [],
   "source": [
    "import os\n",
    "import fitz  # PyMuPDF\n",
    "import re\n",
    "from multi_coulumn import column_boxes"
   ]
  },
  {
   "cell_type": "code",
   "execution_count": 43,
   "metadata": {},
   "outputs": [],
   "source": [
    "doc = fitz.open('./nexon-owner-manual-2022.pdf') ## Replace Path with your own PDF Path"
   ]
  },
  {
   "cell_type": "code",
   "execution_count": 44,
   "metadata": {},
   "outputs": [],
   "source": [
    "\n",
    "def detect_tables(page): ## Detects tables in page\n",
    "    tables = page.find_tables(horizontal_strategy=\"lines\", vertical_strategy=\"lines\")\n",
    "    return tables\n",
    "def find_min(group): ## Finds minimum coordinate value of bounding box group\n",
    "    sorted_group = sorted(group,key=lambda x:x[0])\n",
    "    return sorted_group[0][0]"
   ]
  },
  {
   "cell_type": "code",
   "execution_count": 45,
   "metadata": {},
   "outputs": [],
   "source": [
    "def group_coordinates(coordinates, threshold,tables):\n",
    "    groups = []\n",
    "    current_group = []\n",
    "\n",
    "    # Sort the coordinates based on the x-coordinate\n",
    "    sorted_coordinates = sorted(coordinates, key=lambda x: x[0])\n",
    "\n",
    "    # Iterate through sorted coordinates\n",
    "    for i in range(len(sorted_coordinates)):\n",
    "        if i == 0:\n",
    "            current_group.append(sorted_coordinates[i])\n",
    "        else:\n",
    "            # Check the difference between consecutive x-coordinates\n",
    "            diff = sorted_coordinates[i][0] - sorted_coordinates[i-1][0]\n",
    "            if diff <= threshold:\n",
    "                # Add coordinate to the current group\n",
    "                current_group.append(sorted_coordinates[i])\n",
    "            else:\n",
    "                # Start a new group\n",
    "                if tables.tables:\n",
    "                    for table in tables:\n",
    "                        min_x = find_min(current_group)\n",
    "                        if min_x<int(table.bbox[0]):\n",
    "                            groups.append(current_group)\n",
    "                else:\n",
    "                    groups.append(current_group)\n",
    "                current_group = [sorted_coordinates[i]]\n",
    "\n",
    "    # Add the last group\n",
    "    if tables.tables:\n",
    "        for table in tables:\n",
    "            min_x = find_min(current_group)\n",
    "            if min_x<int(table.bbox[0]):\n",
    "                groups.append(current_group)\n",
    "    else:\n",
    "        groups.append(current_group)\n",
    "    return groups"
   ]
  },
  {
   "cell_type": "code",
   "execution_count": 46,
   "metadata": {},
   "outputs": [],
   "source": [
    "def normalize_text(text):\n",
    "    # Remove line breaks and extra spaces\n",
    "    text = text.replace('\\n', ' ').strip()\n",
    "    # Lowercase the text\n",
    "    text = text.lower()\n",
    "    # Standardize punctuation\n",
    "    text = text.replace(' ,', ',').replace(' .', '.').replace(' ?', '?').replace(' !', '!')\n",
    "    # Replace placeholders (if any)\n",
    "    # No placeholders to replace in the provided text\n",
    "    return text"
   ]
  },
  {
   "cell_type": "code",
   "execution_count": 47,
   "metadata": {},
   "outputs": [
    {
     "name": "stdout",
     "output_type": "stream",
     "text": [
      "important information  in this owner’s manual, you will find the  text under the heading “warning” and  “note” which highlights important infor­ mation. pay particular attention to these  highlighted messages.noteindicates additional information that will  assist you in gaining the optimum ben­ efit and care for your vehicle.warningindicates procedures or information that  must be followed precisely in order to  avoid the possibility of severe personal  injury and serious damage to the vehi­ cle.safe driving   safety consciousness not only ensures  your safety and the safety of other road  users, but it also helps to reduce the wear  and tear on your vehicle.  safe driving depends on:how quickly you make decisions to  avoid an accident.  your ability to concentrate.how well you can see and judge ob­ jects.how well familiar you are with your ve­ hicle controls and its capabilities.notefatigue is a result of physical or mental  exertion that impairs judgment. driver  fatigue may be due to inadequate  sleep, extended work hours, strenuous  work or non-work activities or combina­ tion of other factors. take rest at regular  intervals.safety tipsalways take into account the road con­ ditions, weather conditions, vehicle  speed in order to prevent accidents.turn ‘on’ the side indicators at least  30 meters before taking a turn or  changing the lane.decelerate to a safe speed before tak­ ing turn. do not apply brakes during  cornering.when overtaking other vehicles, watch  out for the oncoming vehicle.never drive under the influence of al­ cohol or drugs.if your vehicle is equipped with info­ tainment/navigation system, set and  make changes to your travel route only  when the vehicle is parked.program radio presets with the vehicle  parked, and use your programmed  presets to make radio use quicker and  simpler."
     ]
    }
   ],
   "source": [
    "page = doc.load_page(9)\n",
    "tables = detect_tables(page)\n",
    "\n",
    "bboxes = column_boxes(page, header_margin=40, no_image_text=True) ## Finds all the bounding boxes in the page\n",
    "\n",
    "rect_list = [] \n",
    "for rect in bboxes:## Rect stores the coordinates of the bounding box\n",
    "    rect_list.append(rect.rect)\n",
    "# Function to group coordinates based on their x-coordinate values\n",
    "\n",
    "groups = group_coordinates(rect_list,70,tables)\n",
    "\n",
    "for group in groups:\n",
    "    sorted_group = sorted(group,key=lambda x:x[1])\n",
    "    for rect in sorted_group:\n",
    "        # print(page.get_text(clip=rect, sort=True))\n",
    "        # print(\"-\" * 80)\n",
    "        box_string = page.get_text(clip=rect, sort=True)\n",
    "        print(normalize_text(box_string),end='')\n",
    "\n",
    "for table in tables:\n",
    "    df = table.to_pandas()\n",
    "    df_normalized = df.applymap(normalize_text)\n",
    "    df_normalized.columns = [normalize_text(col) for col in df.columns]\n",
    "    print(df_normalized.to_csv(index=False))\n"
   ]
  },
  {
   "cell_type": "code",
   "execution_count": 48,
   "metadata": {},
   "outputs": [],
   "source": [
    "## Extracting entire PDF\n",
    "def page_extractor(page):\n",
    "    normalized_string = \"\"\n",
    "    normalized_table = \"\"\n",
    "\n",
    "    tables = detect_tables(page)\n",
    "\n",
    "    bboxes = column_boxes(page, header_margin=40, no_image_text=True) ## Finds all the bounding boxes in the page\n",
    "\n",
    "    rect_list = [] \n",
    "    for rect in bboxes:## Rect stores the coordinates of the bounding box\n",
    "        rect_list.append(rect.rect)\n",
    "    # Function to group coordinates based on their x-coordinate values\n",
    "\n",
    "    groups = group_coordinates(rect_list,70,tables)\n",
    "\n",
    "    for group in groups:\n",
    "        sorted_group = sorted(group,key=lambda x:x[1])\n",
    "        for rect in sorted_group:\n",
    "            # print(page.get_text(clip=rect, sort=True))\n",
    "            # print(\"-\" * 80)\n",
    "            box_string = page.get_text(clip=rect, sort=True)\n",
    "            normalized_string = normalized_string + normalize_text(box_string)\n",
    "    \n",
    "    for table in tables:\n",
    "        df = table.to_pandas()\n",
    "        df_normalized = df.applymap(normalize_text)\n",
    "        df_normalized.columns = [normalize_text(col) for col in df.columns]\n",
    "        normalized_table = normalized_table + \"\\n\" + df_normalized.to_csv(index=False)\n",
    "    return normalized_string + '\\n' + normalized_table"
   ]
  },
  {
   "cell_type": "code",
   "execution_count": 52,
   "metadata": {},
   "outputs": [
    {
     "name": "stdout",
     "output_type": "stream",
     "text": [
      "Example of page extracted:\n",
      "\n",
      "recommended crs position as per  the vehicle matrix  the suitability of seat position for carriage  of children and recommended category of  crs is shown in the table below as per the  child group.  x - seat position not suitable for children  in this age group.  u - suitable for “universal” category re­ straints approved for use in this age group.  universal is a category in the ais072 /  ece r44 norm.warningif a child is seated in the front seat it  may cause serious injury or even death  during any collision.\n",
      "\n",
      "group,mass group,age group,fr,rear out­ board lh,rear out­ board rh,rear center\n",
      "0,up to 10 kg,up to 9 months,x,u,u,x\n",
      "0+,up to 13 kg,up to 24 months,x,u,u,x\n",
      "i,9 to 18 kg,9 months to 48 months,x,u,u,x\n",
      "ii,15 to 25 kg,approx. 3 to 7 years,x,u,u,x\n",
      "iii,22 to 36 kg,approx. 6 to 12 years,x,u,u,x\n",
      "\n"
     ]
    }
   ],
   "source": [
    "page = doc.load_page(16)\n",
    "page_string = page_extractor(page)\n",
    "print('Example of page extracted:\\n')\n",
    "print(page_string)"
   ]
  },
  {
   "cell_type": "code",
   "execution_count": 50,
   "metadata": {},
   "outputs": [],
   "source": [
    "page_count = doc.page_count\n",
    "\n",
    "with open(\"output.txt\", \"a\") as file:\n",
    "    # Iterate through each page\n",
    "    for i in range(page_count):\n",
    "        try:\n",
    "            page = doc.load_page(i)\n",
    "            # Extract page_string for the current page\n",
    "            page_string = page_extractor(page)\n",
    "            \n",
    "            # Append page_string to the text file\n",
    "            file.write(page_string + \"\\n\")\n",
    "        except:\n",
    "            pass"
   ]
  }
 ],
 "metadata": {
  "kernelspec": {
   "display_name": "base",
   "language": "python",
   "name": "python3"
  },
  "language_info": {
   "codemirror_mode": {
    "name": "ipython",
    "version": 3
   },
   "file_extension": ".py",
   "mimetype": "text/x-python",
   "name": "python",
   "nbconvert_exporter": "python",
   "pygments_lexer": "ipython3",
   "version": "3.11.4"
  }
 },
 "nbformat": 4,
 "nbformat_minor": 2
}
